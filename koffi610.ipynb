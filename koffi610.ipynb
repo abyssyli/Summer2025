{
  "nbformat": 4,
  "nbformat_minor": 0,
  "metadata": {
    "colab": {
      "provenance": [],
      "authorship_tag": "ABX9TyNauRPGoE7B5p32cw1jNMJU",
      "include_colab_link": true
    },
    "kernelspec": {
      "name": "python3",
      "display_name": "Python 3"
    },
    "language_info": {
      "name": "python"
    }
  },
  "cells": [
    {
      "cell_type": "markdown",
      "metadata": {
        "id": "view-in-github",
        "colab_type": "text"
      },
      "source": [
        "<a href=\"https://colab.research.google.com/github/abyssyli/Summer2025/blob/main/koffi610.ipynb\" target=\"_parent\"><img src=\"https://colab.research.google.com/assets/colab-badge.svg\" alt=\"Open In Colab\"/></a>"
      ]
    },
    {
      "cell_type": "markdown",
      "source": [
        "**Using PINNS to solve 1-D Heat Equation**"
      ],
      "metadata": {
        "id": "otfvFq-b1qxs"
      }
    },
    {
      "cell_type": "markdown",
      "source": [
        "Suppose we are considering the one-dimensional heat equation:\n",
        "\n",
        "$$\n",
        "\\frac{\\partial u(x, t)}{\\partial t} = \\alpha \\frac{\\partial^2 u(x, t)}{\\partial x^2}, \\quad x \\in [0, 1],\\ t \\in [0, T]\n",
        "$$\n",
        "\n",
        "Where:\n",
        "\n",
        "- $u(x, t)$ is the temperature distribution;\n",
        "- $\\alpha$ is the thermal diffusivity (e.g., $\\alpha = 0.01$);\n",
        "- The initial condition is $u(x, 0) = f(x)$, e.g., $f(x) = \\sin(\\pi x)$;\n",
        "- The boundary condition is $u(0, t) = u(1, t) = 0$.\n",
        "\n",
        "\n",
        "The basic Workflow of Using PINNs to Solve This Type of Equation is:\n",
        "\n",
        "1. Define a neural network with inputs $x$, $t$, and output $u(x, t)$.\n",
        "\n",
        "2. Construct a loss function consisting of three components:\n",
        "\n",
        "   (1). Initial condition loss: $L_{IC}$\n",
        "\n",
        "   (2). Boundary condition loss: $L_{BC}$\n",
        "\n",
        "   (3). PDE physics-informed loss  \n",
        " (based on automatic differentiation of $\\partial u / \\partial t$ and $\\partial^2 u / \\partial x^2$): $L_{PDE}$\n",
        "\n",
        "3. Train the neural network to minimize the total loss.\n",
        "\n",
        "\n",
        "The details are listed in the following parts:\n"
      ],
      "metadata": {
        "id": "_kuEL343oGYJ"
      }
    },
    {
      "cell_type": "markdown",
      "source": [
        "**Part 1. Set seeds**\n",
        "\n",
        "The random seed is set to ensure reproducible results (the initialization parameters and training points are the same for each run)"
      ],
      "metadata": {
        "id": "hMPWHn-O2jtN"
      }
    },
    {
      "cell_type": "code",
      "source": [
        "import torch\n",
        "import torch.nn as nn\n",
        "import numpy as np\n",
        "import matplotlib.pyplot as plt\n",
        "\n",
        "# Set seeds\n",
        "torch.manual_seed(0)\n",
        "np.random.seed(0)"
      ],
      "metadata": {
        "id": "XR_lg829EBAS"
      },
      "execution_count": 1,
      "outputs": []
    },
    {
      "cell_type": "markdown",
      "source": [
        "**Part 2. Define the neural network**\n",
        "\n",
        "Here a three-layer neural network is constructed with a 2D input \\\\((x, t)\\\\) and a 1D output (the predicted \\\\(u(x, t)\\\\)).\n",
        "\n",
        "The `Tanh` activation function helps maintain numerical stability (suitable for physical modeling).\n",
        "\n",
        "The network learns a function that satisfies the PDE and the boundary/initial conditions.\n",
        "\n",
        "---\n",
        "\n",
        "**Forward Pass of the PINN Model**\n",
        "\n",
        "Here we define the forward pass of the neural network. This method will be automatically called when we run `model(x, t)`. Python then returns ``` self.net(torch.cat([x, t], dim=1)) ```\n",
        "\n",
        "We then concatenate the spatial input `x` and temporal input `t` along the feature dimension (`dim=1`), producing a combined tensor where each row represents one \\((x, t)\\) pair. This concatenated input is then passed through the neural network `self.net`, which returns the model's prediction \\( u(x, t) \\).\n",
        "\n"
      ],
      "metadata": {
        "id": "qUOJd8g2E7Pw"
      }
    },
    {
      "cell_type": "code",
      "execution_count": 2,
      "metadata": {
        "id": "NM-e8G2EXhmW"
      },
      "outputs": [],
      "source": [
        "class PINN(nn.Module):\n",
        "    def __init__(self):\n",
        "        super().__init__()\n",
        "        self.net = nn.Sequential(\n",
        "            nn.Linear(2, 32), nn.Tanh(),\n",
        "            nn.Linear(32, 32), nn.Tanh(),\n",
        "            nn.Linear(32, 1)\n",
        "        )\n",
        "\n",
        "    def forward(self, x, t):\n",
        "        return self.net(torch.cat([x, t], dim=1))\n"
      ]
    },
    {
      "cell_type": "markdown",
      "source": [
        "**Part 3. Initialize the network and optimizer**\n",
        "\n",
        "\n",
        "alpha = 0.01 is the thermal diffusivity constant ($\\alpha$) in the heat equation:\n",
        "\n",
        "$\\frac{\\partial u}{\\partial t} = \\alpha \\frac{\\partial^2 u}{\\partial x^2}$\n",
        "\n",
        "It determines how quickly heat spreads through the medium.\n",
        "\n",
        "\n",
        "A larger $\\alpha$ means faster heat conduction, while a smaller $\\alpha$ results in slower thermal diffusion."
      ],
      "metadata": {
        "id": "3WcEkx6mH_AS"
      }
    },
    {
      "cell_type": "code",
      "source": [
        "model = PINN()\n",
        "optimizer = torch.optim.Adam(model.parameters(), lr=1e-3)\n",
        "alpha = 0.01"
      ],
      "metadata": {
        "id": "VFVUIr4troe7"
      },
      "execution_count": 3,
      "outputs": []
    },
    {
      "cell_type": "markdown",
      "source": [
        "**Part 4. Sampling Training points**\n",
        "\n",
        "The data PINNS needs can be divided into three categories:\n",
        "\n",
        "**1**. PDE collocation points, which enforce the network to satisfy the differential equation. We have $ N_f = 1000 pieces of (x_f, t_f)$."
      ],
      "metadata": {
        "id": "bnNP7r--1hzR"
      }
    },
    {
      "cell_type": "markdown",
      "source": [
        "---\n",
        "\n",
        "**Question**: How these points 'force' the network to satisify our PDE?\n",
        "\n",
        "\n",
        "**Firstly**, recall that for traditional numerical methods to solve PDEs, in classical methods like finite difference or finite element, the PDE is satisfied approximately on a discretized grid using difference formulas. For example, for the 1D heat equation: $$ \\frac{\\partial u}{\\partial t} = \\alpha \\frac{\\partial^2 u}{\\partial x^2} $$ we would write: $$ \\frac{u(x, t+\\Delta t) - u(x, t)}{\\Delta t} \\approx \\alpha \\cdot \\frac{u(x+\\Delta x, t) - 2u(x, t) + u(x-\\Delta x, t)}{(\\Delta x)^2} $$ This approach requires a mesh and discretization of both time and space.\n",
        "\n",
        "**However**, for PINNs solve the PDE, it represent the solution $u(x, t)$ as a neural network. Instead of discretizing the PDE, we train the network to minimize the PDE residual at a set of collocation points $(x_f, t_f)$. We want: $$ \\left| \\frac{\\partial u}{\\partial t}(x_f, t_f) - \\alpha \\frac{\\partial^2 u}{\\partial x^2}(x_f, t_f) \\right|^2 \\to \\min $$\n",
        "\n",
        "\n",
        "\n",
        "To this end, we want to implemented this in code, and key idea is to use **automatic differentiation** (`autograd`) to compute the derivatives.\n",
        "\n",
        "Here ```u = model(x_f, t_f) ``` corresponds to the predicted $u(x, t)$.\n",
        "```u_t = torch.autograd.grad(u, t_f, ...)```\n",
        "corresponds to $\\frac{\\partial u}{\\partial t}$.\n",
        "```u_x = torch.autograd.grad(u, x_f, ...) ``` corresponds to∂$\\frac{\\partial u}{\\partial x}$.\n",
        "``` u_xx = torch.autograd.grad(u_x, x_f, ...)```\n",
        " corresponds to$\\frac{\\partial^2 u}{\\partial x^2}$.\n",
        "\n",
        "Then the PDE loss is computed as: ```python loss_f = torch.mean((u_t - alpha * u_xx) ** 2) ```\n",
        "\n",
        "This corresponds to the residual: $$ \\mathcal{L}_\\text{PDE} = \\frac{1}{N_f} \\sum_{i=1}^{N_f} \\left( \\frac{\\partial u}{\\partial t}(x_i, t_i) - \\alpha \\frac{\\partial^2 u}{\\partial x^2}(x_i, t_i) \\right)^2 $$ which penalizes the network if its output does not satisfy the PDE at those points.\n",
        "\n",
        "Hence, to use PINNS to solve PDE, we do not provide the network with a target output $u(x,t)$. Instead, we **train it to minimize the PDE residual** at collocation points.\n",
        "\n",
        "If the residual is not close to zero, the loss is high, and the network updates its parameters to reduce this error. This process forces the network to approximate a function that satisfies the PDE.\n",
        "\n",
        ""
      ],
      "metadata": {
        "id": "ByS5ru7cs2Cs"
      }
    },
    {
      "cell_type": "markdown",
      "source": [
        "---\n",
        "\n",
        "**2**. Initial condition points $N_i$\n",
        "\n",
        "$t_i = 0$ which corresponds to the initial time;\n",
        "\n",
        "$u_i = \\sin(\\pi x)$ is the true initial temperature profile, i.e., $u(x, 0) = \\sin(\\pi x)$;\n",
        "\n",
        "The network learns to make $model(x_i, t_i)$ approximate $u_i$.\n"
      ],
      "metadata": {
        "id": "6jHukZp01wZL"
      }
    },
    {
      "cell_type": "markdown",
      "source": [
        "---\n",
        "\n",
        "**3**. Boundary condition points $N_b$\n",
        "\n",
        "$x = 0$ is the left boundary;\n",
        "\n",
        "$x = 1$ is the right boundary;\n",
        "\n",
        "$t_b$ is sampled over the time domain;\n",
        "\n",
        "The condition is: $$ u(0, t) = 0, \\quad u(1, t) = 0 $$.\n",
        "\n",
        " The network must output 0 at these boundary points."
      ],
      "metadata": {
        "id": "A4rhdxjB18RZ"
      }
    },
    {
      "cell_type": "code",
      "source": [
        "# Number of training points\n",
        "N_f, N_i, N_b = 1000, 100, 100\n",
        "\n",
        "#PDE collocation points sampled randomly from the interior of the domain (x ∈ [0,1], t ∈ [0,1])\n",
        "x_f = torch.rand(N_f, 1)     # random spatial points for PDE residual\n",
        "t_f = torch.rand(N_f, 1)     # random temporal points for PDE residual\n",
        "\n",
        "# Initial condition points sampled at t = 0\n",
        "x_i = torch.rand(N_i, 1);    # random spatial positions at initial time\n",
        "t_i = torch.zeros_like(x_i)  # all time values set to t = 0 (initial time)\n",
        "u_i = torch.sin(np.pi * x_i) # true initial condition: u(x, 0) = sin(pi * x)\n",
        "\n",
        "# Boundary condition points sampled at x = 0 and x = 1\n",
        "t_b = torch.rand(N_b, 1)   # random time values for boundary condition\n",
        "x_b0 = torch.zeros(N_b, 1) # x = 0 boundary points\n",
        "x_b1 = torch.ones(N_b, 1)  # x = 1 boundary points"
      ],
      "metadata": {
        "id": "PWzvV6Y45ngZ"
      },
      "execution_count": 6,
      "outputs": []
    },
    {
      "cell_type": "markdown",
      "source": [
        "**Part 5. Define PDE loss**\n",
        "\n",
        "The ```loss_fn()``` function defines the total loss used to train the PINNS. The total loss consists of three parts: the PDE residual term, the initial condition term, and the boundary condition term.\n",
        "\n",
        "---\n",
        "\n",
        "**Firstly**, it enables autograd tracking by setting ```requires_grad=True``` for ```x_f``` and ```t_f```, which allows the model to compute derivatives of the network output $u(x, t)$ with respect to both space and time.\n",
        "\n",
        "The neural network **then** predicts $u(x, t)$ at the collocation points $(x_f, t_f)$, which are randomly sampled from the interior of the domain.\n",
        "\n",
        "---\n",
        "\n",
        "Using torch.autograd.grad, the function calculates the necessary partial derivatives: $\\frac{\\partial u}{\\partial t}$, $\\frac{\\partial u}{\\partial x}$, and $\\frac{\\partial^2 u}{\\partial x^2}$.\n",
        "\n",
        "\n",
        "These derivatives are used to construct the PDE residual.\n",
        "\n",
        "\n",
        "The total loss consists of three components:\n",
        "\n",
        "- **PDE loss**:  \n",
        "  $\\left\\| \\frac{\\partial u}{\\partial t} - \\alpha \\frac{\\partial^2 u}{\\partial x^2} \\right\\|^2$\n",
        "\n",
        "- **Initial loss**:  \n",
        "  $\\left\\| u(x, 0) - \\sin(\\pi x) \\right\\|^2$\n",
        "\n",
        "- **Boundary loss**:  \n",
        "  $\\left\\| u(0, t) \\right\\|^2 + \\left\\| u(1, t) \\right\\|^2$\n",
        "\n",
        "We use `torch.autograd.grad()` to automatically compute first and second-order derivatives.\n",
        "\n",
        "---\n",
        "\n",
        "The term ```loss_f``` represents the mean squared error of the residual\n",
        "$\\frac{\\partial u}{\\partial t} - \\alpha \\frac{\\partial^2 u}{\\partial x^2}$,\n",
        "forcing the network to satisfy the heat equation across the domain.\n",
        "\n",
        "The term ```loss_i``` represents that the initial condition at $t = 0$, requiring the network’s output to match the true initial profile $u(x, 0) = \\sin(\\pi x)$.\n",
        "\n",
        "The term ```loss_b``` handles the boundary conditions at $x = 0$ and $x = 1$, where the solution must always be zero:\n",
        "$u(0, t) = u(1, t) = 0$.\n",
        "\n",
        "\n",
        "**Finally**, the function returns the sum of the three loss components as the total objective.\n",
        "This guides the network to learn a solution that satisfies the governing PDE, as well as the associated initial and boundary conditions."
      ],
      "metadata": {
        "id": "K61imf_SIyi9"
      }
    },
    {
      "cell_type": "code",
      "source": [
        "# Define total loss: PDE residual + initial condition + boundary condition\n",
        "def loss_fn():\n",
        "    # Enable gradient tracking for x_f and t_f to compute derivatives of u(x,t)\n",
        "    x_f.requires_grad = True\n",
        "    t_f.requires_grad = True\n",
        "\n",
        "    # Forward pass: predict u(x,t) at PDE collocation points\n",
        "    u = model(x_f, t_f)\n",
        "\n",
        "    # Compute partial derivative ∂u/∂t using autograd\n",
        "    u_t = torch.autograd.grad(u, t_f, torch.ones_like(u), create_graph=True)[0]\n",
        "\n",
        "    # Compute partial derivative ∂u/∂x\n",
        "    u_x = torch.autograd.grad(u, x_f, torch.ones_like(u), create_graph=True)[0]\n",
        "\n",
        "    # Compute second derivative ∂²u/∂x²\n",
        "    u_xx = torch.autograd.grad(u_x, x_f, torch.ones_like(u_x), create_graph=True)[0]\n",
        "\n",
        "    # PDE loss: enforce heat equation ∂u/∂t = α ∂²u/∂x²\n",
        "    loss_f = torch.mean((u_t - alpha * u_xx)**2)\n",
        "\n",
        "    # Initial condition loss: enforce u(x,0) = sin(πx)\n",
        "    loss_i = torch.mean((model(x_i, t_i) - u_i)**2)\n",
        "\n",
        "    # Boundary condition loss: enforce u(0,t) = u(1,t) = 0\n",
        "    loss_b = torch.mean(model(x_b0, t_b)**2) + torch.mean(model(x_b1, t_b)**2)\n",
        "\n",
        "    # Total loss: sum of PDE, initial, and boundary condition losses\n",
        "    return loss_f + loss_i + loss_b\n"
      ],
      "metadata": {
        "id": "HWXF2X-1H61D"
      },
      "execution_count": 7,
      "outputs": []
    },
    {
      "cell_type": "markdown",
      "source": [
        "**Part 6. Training Loop**\n",
        "\n",
        "In each training iteration, we compute the total loss `total`.\n",
        "\n",
        "We Use `.backward()` to perform backpropagation and `optimizer.step()` to update the network parameters.\n"
      ],
      "metadata": {
        "id": "_OvurGIkXpoM"
      }
    },
    {
      "cell_type": "code",
      "source": [
        "# Train\n",
        "for epoch in range(2000):\n",
        "    optimizer.zero_grad()\n",
        "    loss = loss_fn()\n",
        "    loss.backward()\n",
        "    optimizer.step()\n",
        "    if epoch % 200 == 0:\n",
        "        print(f\"Epoch {epoch}: loss = {loss.item():.5f}\")"
      ],
      "metadata": {
        "colab": {
          "base_uri": "https://localhost:8080/"
        },
        "id": "Zh8-QHL3QvfR",
        "outputId": "c8e32e67-b7b9-44bd-d21c-6ef586723a18"
      },
      "execution_count": 13,
      "outputs": [
        {
          "output_type": "stream",
          "name": "stdout",
          "text": [
            "Epoch 0: loss = 0.73978\n",
            "Epoch 200: loss = 0.28976\n",
            "Epoch 400: loss = 0.00857\n",
            "Epoch 600: loss = 0.00304\n",
            "Epoch 800: loss = 0.00109\n",
            "Epoch 1000: loss = 0.00038\n",
            "Epoch 1200: loss = 0.00018\n",
            "Epoch 1400: loss = 0.00012\n",
            "Epoch 1600: loss = 0.00009\n",
            "Epoch 1800: loss = 0.00007\n"
          ]
        }
      ]
    },
    {
      "cell_type": "markdown",
      "source": [
        "**Part 7. Construct a 2D $(x, t)$ Grid for Visualization of $u(x, t)$**\n",
        "\n",
        "To evaluate and visualize the model's prediction over the entire domain, we create a 2D grid of size $100 \\times 100$ using `torch.linspace()`.\n",
        "\n",
        "To be more specific,\n",
        "\n",
        "`x_test` and `t_test` are linearly spaced points between 0 and 1, each reshaped to column vectors of shape $[100, 1]$.\n",
        "\n",
        "`torch.meshgrid()` is used to create the full 2D grid $(X, T)$ where each point represents a unique $(x, t)$ pair.\n",
        "\n",
        "`X` and `T` are flattened into `x_flat` and `t_flat`, which are passed to the trained model for prediction.\n",
        "\n",
        "This grid allows us to generate the full solution $u(x, t)$ and visualize the model's output over space and time."
      ],
      "metadata": {
        "id": "z8yfe3skbhOx"
      }
    },
    {
      "cell_type": "code",
      "source": [
        "# Generate grid prediction\n",
        "x_test = torch.linspace(0, 1, 100).view(-1, 1)\n",
        "t_test = torch.linspace(0, 1, 100).view(-1, 1)\n",
        "X, T = torch.meshgrid(x_test.squeeze(), t_test.squeeze(), indexing=\"ij\")\n",
        "x_flat = X.reshape(-1, 1) # shape: (10000, 1)\n",
        "t_flat = T.reshape(-1, 1) # shape: (10000, 1)"
      ],
      "metadata": {
        "id": "kcOv_xT_bdCE"
      },
      "execution_count": 14,
      "outputs": []
    },
    {
      "cell_type": "markdown",
      "source": [
        "**Model Evaluation and Relative $L^2$ Error**\n",
        "\n",
        "We use the trained model to generate predictions on a full $(x, t)$ grid and compare them to the exact analytical solution of the 1D heat equation. This allows us to quantitatively assess the model’s accuracy.\n",
        "\n",
        "Here `torch.no_grad()` disables gradient tracking during evaluation to save memory and speed up inference.\n",
        "\n",
        "`model(x_{\\text{flat}}, t_{\\text{flat}})` predicts $u_{\\text{pred}}(x, t)$ over the entire grid of test points.\n",
        "\n",
        "---\n",
        "\n",
        "The **analytical (true) solution** of the heat equation is:\n",
        "  $$\n",
        "  u_{\\text{true}}(x, t) = e^{-\\alpha \\pi^2 t} \\cdot \\sin(\\pi x)\n",
        "  $$\n",
        "\n",
        "Now both predicted and true values are reshaped into $100 \\times 100$ grids to match the original mesh.\n",
        "\n",
        "---\n",
        "\n",
        "The **relative $L^2$ error** is computed as:\n",
        "\n",
        "  $$\n",
        "  \\text{Relative Error} = \\frac{ \\| u_{\\text{pred}} - u_{\\text{true}} \\|_2 }{ \\| u_{\\text{true}} \\|_2 }\n",
        "  $$\n",
        "\n",
        "\n",
        "A small relative error (e.g., less than $10^{-2}$) indicates that the neural network has successfully learned an accurate approximation of the heat equation solution.\n"
      ],
      "metadata": {
        "id": "X6XrGaDVgujL"
      }
    },
    {
      "cell_type": "code",
      "source": [
        "with torch.no_grad():\n",
        "    u_pred = model(x_flat, t_flat).reshape(100, 100)\n",
        "    u_true = torch.exp(-alpha * np.pi**2 * t_flat) * torch.sin(np.pi * x_flat)\n",
        "    u_true = u_true.reshape(100, 100)\n",
        "    rel_error = torch.norm(u_pred - u_true) / torch.norm(u_true)\n",
        "    print(f\"\\nRelative L2 error: {rel_error:.2e}\")"
      ],
      "metadata": {
        "colab": {
          "base_uri": "https://localhost:8080/"
        },
        "id": "cP3tPhgdgtn5",
        "outputId": "ce4e9d6c-d451-46dd-a44c-5d00e8d57d09"
      },
      "execution_count": 15,
      "outputs": [
        {
          "output_type": "stream",
          "name": "stdout",
          "text": [
            "\n",
            "Relative L2 error: 3.43e-03\n"
          ]
        }
      ]
    },
    {
      "cell_type": "markdown",
      "source": [
        "**Part 8. Visualization of Results**\n",
        "\n",
        "1. PINN Prediction ($u_{\\text{pred}}$)\n",
        "\n",
        "This is a contour heatmap of the predicted solution $u_{\\text{pred}}(x, t)$ generated by the neural network over the space-time grid.\n",
        "\n",
        "It shows how the model approximates the temperature distribution.\n",
        "\n",
        "---\n",
        "\n",
        "2. Analytical Solution ($u_{\\text{true}}$)\n",
        "\n",
        "This is the ground-truth solution computed from the exact formula:\n",
        "$$\n",
        "  u(x, t) = e^{-\\alpha \\pi^2 t} \\cdot \\sin(\\pi x)\n",
        "  $$\n",
        "\n",
        "It serves as a reference to compare the accuracy of the predicted result.\n",
        "\n",
        "---\n",
        "\n",
        "3. PDE Residual Histogram\n",
        "\n",
        "We compute the residual of the PDE at the collocation points:\n",
        "$$\n",
        "  \\text{Residual} = \\frac{\\partial u}{\\partial t} - \\alpha \\frac{\\partial^2 u}{\\partial x^2}\n",
        "  $$\n",
        "\n",
        "The histogram shows the distribution of residuals. Ideally, all residuals should be close to 0.\n",
        "\n",
        "A narrow, sharp peak near 0 indicates that the PINN satisfies the differential equation well.\n",
        "\n",
        "---\n",
        "\n",
        "All plots are placed side by side using `plt.subplot(1, 3, *)`, and `plt.tight_layout()`.\n"
      ],
      "metadata": {
        "id": "Q-CjYh8LiX-r"
      }
    },
    {
      "cell_type": "code",
      "source": [
        "# Plot results\n",
        "plt.figure(figsize=(12, 4))\n",
        "plt.subplot(1, 3, 1)\n",
        "plt.contourf(X.numpy(), T.numpy(), u_pred.numpy(), 100, cmap='hot')\n",
        "plt.title(\"PINN Prediction\"); plt.colorbar()\n",
        "\n",
        "plt.subplot(1, 3, 2)\n",
        "plt.contourf(X.numpy(), T.numpy(), u_true.numpy(), 100, cmap='hot')\n",
        "plt.title(\"Analytical Solution\"); plt.colorbar()\n",
        "\n",
        "# Residual histogram\n",
        "x_f.requires_grad = True; t_f.requires_grad = True\n",
        "u = model(x_f, t_f)\n",
        "u_t = torch.autograd.grad(u, t_f, torch.ones_like(u), create_graph=True)[0]\n",
        "u_x = torch.autograd.grad(u, x_f, torch.ones_like(u), create_graph=True)[0]\n",
        "u_xx = torch.autograd.grad(u_x, x_f, torch.ones_like(u_x), create_graph=True)[0]\n",
        "residual = (u_t - alpha * u_xx).detach().numpy()\n",
        "\n",
        "plt.subplot(1, 3, 3)\n",
        "plt.hist(residual, bins=50)\n",
        "plt.title(\"PDE Residual Histogram\")\n",
        "plt.tight_layout()\n",
        "plt.show()"
      ],
      "metadata": {
        "colab": {
          "base_uri": "https://localhost:8080/",
          "height": 336
        },
        "id": "oKVVGuzj5wkH",
        "outputId": "eb499610-6271-403c-fcba-186944e63e78"
      },
      "execution_count": 18,
      "outputs": [
        {
          "output_type": "display_data",
          "data": {
            "text/plain": [
              "<Figure size 1200x400 with 5 Axes>"
            ],
            "image/png": "[encoded data removed]"
          },
          "metadata": {}
        }
      ]
    }
  ]
}